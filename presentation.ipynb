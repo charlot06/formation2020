{
 "cells": [
  {
   "cell_type": "code",
   "execution_count": 12,
   "metadata": {
    "editable": false,
    "hide_input": true,
    "hide_output": true,
    "init_cell": true,
    "run_control": {
     "marked": true
    }
   },
   "outputs": [
    {
     "data": {
      "application/javascript": [
       "let timerId = setInterval(() => Jupyter.notebook.execute_cells([1]), 300000);\n",
       "setTimeout(() => { clearInterval(timerId); alert('ATTENTION! fin de cession. Sauvegardez votre travail.'); },7200000);\n",
       "    IPython.OutputArea.prototype._should_scroll = function(lines) {\n",
       "    return false;\n",
       "};\n",
       "    require(\n",
       "        ['base/js/namespace', 'jquery'], \n",
       "        function(jupyter, $) {\n",
       "            \n",
       "                \n",
       "                jupyter.actions.call('jupyter-notebook:run-all-cells-below');\n",
       "                jupyter.actions.call('jupyter-notebook:save-notebook');\n",
       "\n",
       "        }\n",
       "    );"
      ],
      "text/plain": [
       "<IPython.core.display.Javascript object>"
      ]
     },
     "execution_count": 12,
     "metadata": {},
     "output_type": "execute_result"
    }
   ],
   "source": [
    "# Permet de tout executer au lancement du notebook + conserver le notebook actif pendant 2h\n",
    "from IPython.display import Javascript\n",
    "\n",
    "Javascript(\"\"\"let timerId = setInterval(() => Jupyter.notebook.execute_cells([1]), 300000);\n",
    "setTimeout(() => { clearInterval(timerId); alert('ATTENTION! fin de cession. Sauvegardez votre travail.'); },7200000);\n",
    "    IPython.OutputArea.prototype._should_scroll = function(lines) {\n",
    "    return false;\n",
    "};\n",
    "    require(\n",
    "        ['base/js/namespace', 'jquery'], \n",
    "        function(jupyter, $) {\n",
    "            \n",
    "                \n",
    "                jupyter.actions.call('jupyter-notebook:run-all-cells-below');\n",
    "                jupyter.actions.call('jupyter-notebook:save-notebook');\n",
    "\n",
    "        }\n",
    "    );\"\"\")"
   ]
  },
  {
   "cell_type": "code",
   "execution_count": 92,
   "metadata": {
    "editable": false,
    "hide_input": true,
    "hide_output": true,
    "run_control": {
     "marked": true
    }
   },
   "outputs": [],
   "source": [
    "A = 2 + 3"
   ]
  },
  {
   "cell_type": "markdown",
   "metadata": {
    "slideshow": {
     "slide_type": "slide"
    }
   },
   "source": [
    "<h1 style=\"text-align:center;\"> <a name=\"titre\"></a>Formation Jupyter</h1>"
   ]
  },
  {
   "cell_type": "markdown",
   "metadata": {
    "slideshow": {
     "slide_type": "subslide"
    }
   },
   "source": [
    "<center>Cette formation n'a pas vocation à vous apprendre à programmer en python. Le but est de découvrir et de configurer un environnement Jupyter afin de pouvoir l'utiliser avec les élèves en présence ou à distance.</center>"
   ]
  },
  {
   "cell_type": "markdown",
   "metadata": {
    "slideshow": {
     "slide_type": "slide"
    }
   },
   "source": [
    "# SOMMAIRE\n",
    "[I. L'environnement sur github](#partie1)\n",
    "\n",
    "<span style=\"margin-left:2em;\">[I.1. Reproduire l'environnement](#partie1.1)</span>\n",
    "\n",
    "<span style=\"margin-left:2em;\">[I.2. Obtenir les liens de partage](#partie1.2)</span>\n",
    "\n",
    "<span style=\"margin-left:2em;\">[I.3. Mises à jour et personnalisation](#partie1.3)</span>\n",
    "\n",
    "\n",
    "[II. Jupyter](#partie2)\n",
    "\n",
    "<span style=\"margin-left:2em;\">[II.1. Utilisation de l'environnement de programmation](#partie2.1)</span>\n",
    "\n",
    "<span style=\"margin-left:2em;\">[II.2. Les cellules de code](#partie2.2)</span>\n",
    "\n",
    "<span style=\"margin-left:2em;\">[II.3. Les cellules markdown](#partie2.3)</span>\n",
    "\n",
    "<span style=\"margin-left:2em;\">[II.4. Mise ne forme avancée](#partie2.4)</span>\n",
    "\n",
    "[III. Exports et utilisations](#partie3)\n"
   ]
  },
  {
   "cell_type": "markdown",
   "metadata": {
    "slideshow": {
     "slide_type": "slide"
    }
   },
   "source": [
    "## <a name=\"partie1\"></a> I. L'environnement sur github "
   ]
  },
  {
   "cell_type": "markdown",
   "metadata": {},
   "source": [
    "### <span style=\"margin-left:2em;\"><a name=\"partie1.1\"></a>I.1 Reproduire l'environnement</span>"
   ]
  },
  {
   "cell_type": "markdown",
   "metadata": {},
   "source": [
    "Il vous faut un espace GITHUB pour pouvoir récupérer l'ensemble des fichiers, les modifier puis fabriquer vos propres serveurs virtuels. La première étape est donc de s'inscrire sur [www.github.com](https://www.github.com)"
   ]
  },
  {
   "cell_type": "markdown",
   "metadata": {},
   "source": [
    "Il faut ensuite aller sur mon dépôt lié à cette formation. Pour info le nom d'utilisateur est **jcamponovo** et il s'agit du dépôt **formation2020**.  \n",
    "On y accède donc directement avec https://www.github.com/jcamponovo/formation2020"
   ]
  },
  {
   "cell_type": "markdown",
   "metadata": {},
   "source": [
    "Pour copier l'environnement, il suffit de cliquer sur le bouton \"fork\" dans la barre d'outils puis de se connecter à son compte github (si vous n'êtes pas déjà identifié).\n",
    "\n",
    "\n",
    "![copie d'écran espace github](img/fork.png)"
   ]
  },
  {
   "cell_type": "markdown",
   "metadata": {},
   "source": [
    "Bravo, vous venez de cloner le dépôt github, vous disposez donc d'un environnement Jupyter complètement configuré et prêt à fonctionner en ligne."
   ]
  },
  {
   "cell_type": "markdown",
   "metadata": {},
   "source": [
    "<span style=\"text-align:right;\">[Retour](#titre)</span>"
   ]
  },
  {
   "cell_type": "markdown",
   "metadata": {},
   "source": [
    "### <span style=\"margin-left:2em;\"><a name=\"partie1.2\"></a>I.2 Obtenir les liens de partage</span>"
   ]
  },
  {
   "cell_type": "markdown",
   "metadata": {},
   "source": [
    "Pour obtenir le lien de partage de votre nouvel espace, vous pouvez aller sur https://mybinder.org/ ou faire directement la manipulation ci-dessous. Il suffit de compléter le formulaire proposé:\n",
    "* entrer le nom du dépôt qui est de la forme <nom d'utilisateur>/<nom du dépôt> par exemple dans mon cas il s'agit de **jcamponovo/formation2020**, dans votre cas il faudr remplacer jcamponovo par votre nom d'utilisateur.\n",
    "* la branche est inutile (ici c'est master et il n'y en n'a qu'une seule)\n",
    "* entrer le nom du notebook vers lequel vous voulez que le lien pointe par exemple **refraction2.ipynb**\n",
    "* votre lien est disponible tout en bas avec une icone permettant de le copier."
   ]
  },
  {
   "cell_type": "code",
   "execution_count": 14,
   "metadata": {
    "hide_input": true,
    "hide_output": true,
    "run_control": {
     "marked": false
    }
   },
   "outputs": [
    {
     "data": {
      "text/html": [
       "\n",
       "        <iframe\n",
       "            width=\"900\"\n",
       "            height=\"1100\"\n",
       "            src=\"https://mybinder.org\"\n",
       "            frameborder=\"0\"\n",
       "            allowfullscreen\n",
       "        ></iframe>\n",
       "        "
      ],
      "text/plain": [
       "<IPython.lib.display.IFrame at 0x7f52e4f6d890>"
      ]
     },
     "execution_count": 14,
     "metadata": {},
     "output_type": "execute_result"
    }
   ],
   "source": [
    "from IPython.display import IFrame\n",
    "IFrame(src=\"https://mybinder.org\", width = 900, height=1100)"
   ]
  },
  {
   "cell_type": "markdown",
   "metadata": {},
   "source": [
    "Les liens mybinder sont toujours conçus de la même façon:\n",
    "\n",
    "* ils démarrent par **https://mybinder.org/v2/gh/** \n",
    "* suivi du nom d'utilisateur, du nom du dépot et de la branche. Pour moi cela donne **jcamponovo/formation2020/master**. \n",
    "* Enfin de manière facultative vous pouvez passer d'autres options comme le nom d'un fichier à lancer directement ou la forme appliweb à utiliser. Par exemple ici **?filepath=refraction2.ipynb** pour lancer le notebook refraction2.ipynb au clic du lien, ou **?urlpath=apps/environnement.ipynb** pour lancer le fichier environnement.ipynb directement en mode appli web.\n",
    "\n",
    "\n",
    "Vous avez ainsi mes deux liens de démonstration **https://mybinder.org/v2/gh/jcamponovo/formation2020/master?filepath=refraction2.ipynb** et **https://mybinder.org/v2/gh/jcamponovo/formation2020/master?urlpath=apps/environnement.ipynb** que vous pouvez adapter à votre propre espace en changeant uniquement le nom d'utilisateur."
   ]
  },
  {
   "cell_type": "markdown",
   "metadata": {},
   "source": [
    "#### Exercice 1 :\n",
    "Construire le lien vers le fichier **refraction2.ipynb** de **votre espace** directement en mode **appli web**. Testez le lien obtenu."
   ]
  },
  {
   "cell_type": "markdown",
   "metadata": {},
   "source": [
    "<span style=\"text-align:right;\">[Retour](#titre)</span>"
   ]
  },
  {
   "cell_type": "markdown",
   "metadata": {},
   "source": [
    "### <span style=\"margin-left:2em;\"><a name=\"partie1.3\"></a>I.3 Mise à jour et personnalisation</span>"
   ]
  },
  {
   "cell_type": "markdown",
   "metadata": {},
   "source": [
    "Mon dépôt github a été cloné à l'identique ce qui signifie que le fichier **README.md** de votre dépôt contient encore les liens vers mon dépôt. C'est la première chose à changer. \n",
    "1. Aller sur votre espace github dans le dépot formation 2020\n",
    "1. Dans la liste des fichiers cliquer sur **README.md**\n",
    "1. Cliquer sur le bouton en forme de crayon afin d'éditer le fichier\n",
    "1. Corriger les liens vers les différents documents (modifier la partie sélectionnée dans l'image ci-dessous afin qu'ils pointent vers votre espace).\n",
    "\n",
    "\n",
    "![copie d ecran readme.md](img/readme.png)"
   ]
  },
  {
   "cell_type": "markdown",
   "metadata": {},
   "source": [
    "Voici maintenant la procédure permettant de mettre à jour votre espace en intégrant les modifications qui ont pu être faites dans l'espace maître. Cette manipulation vous permet également d'intégrer les modifications ou ajouts des autres personnes ayant un fork du dépôt. Vos propres ajouts sont conservés et disponibles pour les autres car les documents sont publics tel que l'espace est configuré et partagés avec licence libre (car le dépôt maitre est partagé avec ce type de licence."
   ]
  },
  {
   "cell_type": "code",
   "execution_count": null,
   "metadata": {},
   "outputs": [],
   "source": []
  },
  {
   "cell_type": "markdown",
   "metadata": {},
   "source": [
    "intermédiaire: Suivre un dépot + surveiller les forks et partager"
   ]
  },
  {
   "cell_type": "markdown",
   "metadata": {},
   "source": [
    "intermédiaire: modifier les bibliothèques python"
   ]
  },
  {
   "cell_type": "markdown",
   "metadata": {},
   "source": [
    "avance: propositions de mises à jour => il est possible de collaborer en ayant chacun sa version du document\n",
    "On peut avoir un dépôt \"académique\" qui se charge avec les docs proposés par tout le monde dont je peux m'occuper avec le rôle de IAN, un dépôt \"etablissement\" qui correspond à la base de donnée de tp et documents de base dans un établissement et chaque enseignant aura son dépôt qu'il peut mettre à jour en gardant un oeil sur tous ces dépôts partagés, récuérer les nouveaux documents, les modifier et les rendre à nouveau disponibles."
   ]
  },
  {
   "cell_type": "markdown",
   "metadata": {},
   "source": [
    "avance: modification du serveur linux fichier apt.txt plutôt utile pour les applications bien particulières ou pour la NSI (on peut installer quelques commandes linux si on veut jouer avec le terminal par exemple)."
   ]
  },
  {
   "cell_type": "markdown",
   "metadata": {},
   "source": [
    "<span style=\"text-align:right;\">[Retour](#titre)</span>"
   ]
  },
  {
   "cell_type": "markdown",
   "metadata": {
    "slideshow": {
     "slide_type": "slide"
    }
   },
   "source": [
    "## <a name=\"partie2\"></a>II. Jupyter"
   ]
  },
  {
   "cell_type": "markdown",
   "metadata": {},
   "source": [
    "Attention, cette formation n'a pas pour but d'apprendre à programmer en python!"
   ]
  },
  {
   "cell_type": "markdown",
   "metadata": {},
   "source": [
    "### <span style=\"margin-left:2em;\"><a name=\"partie2.1\"></a> II.1. Utilisation de l'environnement de programmation</span>"
   ]
  },
  {
   "cell_type": "markdown",
   "metadata": {},
   "source": [
    "utiliser l'environnement pour creer une page (on laisse la page environnement ouverte cela donne 2h de tranquilité explication plus loin)"
   ]
  },
  {
   "cell_type": "markdown",
   "metadata": {},
   "source": [
    "Différentes cellules => On utilise \"code\" et \"markdown\" et on utilise le \"+\" pour créer une nouvelle cellule et les ciseaux pour en supprimer une.\n",
    "La cellule sélectionnée peut être déplacée en utilisant les boutons en forme de flèche (vers le haut et vers le bas) de la barre d'outils. On exécute une cellule en cliquant sur le bouton \"executer\" de la barre d'outils ou l'icone \"play\" à gauche de la cellule lorsqu'elle est là ou encore la combinaison de touches \"CTRL + Enter\". Une cellule redevient éditable par simple clic (cellule de code) ou double clic (cellule markdown)"
   ]
  },
  {
   "cell_type": "markdown",
   "metadata": {},
   "source": [
    "Exercice 1: Créer un nouveau notebook puis l'éditer jusqu'à ce qu'il ressemble au document présent [ici](exercice1.pdf)"
   ]
  },
  {
   "cell_type": "markdown",
   "metadata": {},
   "source": [
    "Vous pouvez sauver votre notebook en cliquant sur l'icone en forme de disquette de la barre d'outils ou avec le raccourci clavier \"ctrl + s\". \n",
    "Si vous souhaitez modifier le nom du fichier, il faut utiliser File => Save as puis entrer le nom souhaité.\n"
   ]
  },
  {
   "cell_type": "markdown",
   "metadata": {},
   "source": [
    "Vous pouvez ensuite télécharger le document sous différents formats, avec File => Download as \n",
    "Je vous conseille d'utiliser le format \"html\" lorsque vous ne souhaitez plus éditer le document. Ce format ne pose aucun problème de compatibilité et s'ouvre avec un navigateur internet et a pour intérêt de garder la mise en forme du notebook\n",
    "Si vous souhaitez pouvoir éditer à nouveau votre document, utilisez le format .ipynb qui est le format notebook jupyter. \n",
    "Dans une moindre mesure, vous avez la possibilité avec l'environnement proposé de télécharger le document comme un pdf. Ce format n'aura pas d'intérêt par rapport au html précédent et la mise en forme n'est pas toujours conservée. \n",
    "Le format slides.html permet de télécharger votre notebook sous forme de présentation (type powerpoint) mais d'autres outils sont en place sur cet environnement pour vous permettre de faire bien mieux d'où le manque d'intérêt de ce format."
   ]
  },
  {
   "cell_type": "markdown",
   "metadata": {},
   "source": [
    "Exercice 2: Exporter le notebook précédent au format .html et au format .ipynb\n",
    "Ouvrir le .html sur votre machine pour voir le résultat et la compatibilité de ce format avec votre machine (particulièrement adapté aux tablettes par exemple).\n",
    "Utiliser l'environnement jupyter en ligne et chargez le document .ipynb depuis votre machine afin de pousuivre son édition."
   ]
  },
  {
   "cell_type": "markdown",
   "metadata": {},
   "source": [
    "RQ (NSI et avancé): on a accès à un terminal linux pour le serveur virtuel (parenthèse pour ceux qui enseignent en NSI)"
   ]
  },
  {
   "cell_type": "markdown",
   "metadata": {},
   "source": [
    "<span style=\"text-align:right;\">[Retour](#titre)</span>"
   ]
  },
  {
   "cell_type": "markdown",
   "metadata": {
    "slideshow": {
     "slide_type": "slide"
    }
   },
   "source": [
    "### <span style=\"margin-left:2em;\"><a name=\"partie2.2\"></a> II.2. Cellules de code </span>"
   ]
  },
  {
   "cell_type": "markdown",
   "metadata": {},
   "source": [
    "Code et execution"
   ]
  },
  {
   "cell_type": "markdown",
   "metadata": {},
   "source": [
    "Pb des 10 minutes et solution"
   ]
  },
  {
   "cell_type": "markdown",
   "metadata": {},
   "source": [
    "Avancé: modifier le timeout"
   ]
  },
  {
   "cell_type": "markdown",
   "metadata": {},
   "source": [
    "Intermédiaire: Pb de freeze du noyau et solution"
   ]
  },
  {
   "cell_type": "markdown",
   "metadata": {},
   "source": [
    "<span style=\"text-align:right;\">[Retour](#titre)</span>"
   ]
  },
  {
   "cell_type": "markdown",
   "metadata": {
    "slideshow": {
     "slide_type": "slide"
    }
   },
   "source": [
    "### <span style=\"margin-left:2em;\"> <a name=\"partie2.3\"></a>II.3 Cellules markdown</span>"
   ]
  },
  {
   "cell_type": "markdown",
   "metadata": {},
   "source": [
    "Un peu de syntaxe markdown + formules en latex"
   ]
  },
  {
   "cell_type": "markdown",
   "metadata": {
    "variables": {
     "d_{AB": "<p><strong>SyntaxError</strong>: invalid syntax (<ipython-input-15-0f8ba6629dcc>, line 1)</p>\n"
    }
   },
   "source": [
    "$\\large{\\boldsymbol{\\overrightarrow{F_{A\\rightarrow B}} = - \\mathscr{G} \\frac{m_A m_B}{{d_{AB}}^2} \\overrightarrow{u}}}$"
   ]
  },
  {
   "cell_type": "markdown",
   "metadata": {},
   "source": [
    "<span style=\"text-align:right;\">[Retour](#titre)</span>"
   ]
  },
  {
   "cell_type": "markdown",
   "metadata": {},
   "source": [
    "### <span style=\"margin-left:2em;\"><a name=\"partie2.4\"></a>II.4 Mise en forme avancee</span>"
   ]
  },
  {
   "cell_type": "markdown",
   "metadata": {},
   "source": [
    "image, hyperlien, iframe, HTML, Cacher les entrees, Youtube, balises HTML acceptees"
   ]
  },
  {
   "cell_type": "markdown",
   "metadata": {},
   "source": [
    "<span style=\"text-align:right;\">[Retour](#titre)</span>"
   ]
  },
  {
   "cell_type": "markdown",
   "metadata": {
    "slideshow": {
     "slide_type": "slide"
    }
   },
   "source": [
    "## <a name=\"partie3\"></a>III. Utilisations"
   ]
  },
  {
   "cell_type": "markdown",
   "metadata": {},
   "source": [
    "Utilisations:\n",
    "* proposer un environnement de programmation à distance ou en présence a ses élèves sans installation\n",
    "* rediger des documents interactifs\n",
    "* proposer des comtpes rendus de tp numériques préformatés\n",
    "* (intermédiaire) Proposer des TP hybrides basés sur des simulations (distance) ou manipulation (présence) avec une même exploitation\n",
    "* (intermédiaire à avancé) Réaliser de petites simulations modifiables par les élèves basées sur matpltolib\n",
    "* (intermédiaire) Réaliser des présentations interactives\n",
    "* (avancé) Réaliser des simulations avec bqplot et vuetify\n",
    "* (NSI) Tester du code HTML et Javascipt"
   ]
  },
  {
   "cell_type": "markdown",
   "metadata": {},
   "source": [
    "Utilisations particulières et extensions configurées dans ce dépot github:\n",
    "=> Appmode (transforme un notebook en application web éditable, cache automatiquement tous les blocs de code)\n",
    "\n",
    "=> Rise (transforme un notebook en presentation mais tout reste editable et interactif comme dans jupyter!)\n",
    "\n",
    "=> Voila (transforme un notebook en page web interactive)\n",
    "\n",
    "=> Initialization_cells (permet d'exécuter certaines cellules au démarrage du notebook sans action de l'utilisateur\n",
    "\n",
    "=> "
   ]
  },
  {
   "cell_type": "markdown",
   "metadata": {},
   "source": [
    "<span style=\"text-align:right;\">[Retour](#titre)</span>"
   ]
  },
  {
   "cell_type": "code",
   "execution_count": 15,
   "metadata": {
    "hide_input": true,
    "hide_output": true,
    "run_control": {
     "marked": false
    }
   },
   "outputs": [
    {
     "data": {
      "text/html": [
       "<script> $('div .input').show()"
      ],
      "text/plain": [
       "<IPython.core.display.HTML object>"
      ]
     },
     "execution_count": 15,
     "metadata": {},
     "output_type": "execute_result"
    }
   ],
   "source": [
    "from IPython.display import HTML\n",
    "\n",
    "HTML('''<script> $('div .input').show()''')"
   ]
  },
  {
   "cell_type": "code",
   "execution_count": 16,
   "metadata": {
    "hide_input": true,
    "hide_output": true,
    "run_control": {
     "marked": false
    },
    "scrolled": false
   },
   "outputs": [
    {
     "data": {
      "text/html": [
       "<div style=\"width: 100%;\">\n",
       "  <div style=\"position: relative; padding-bottom: 56.25%; padding-top: 0; height: 0;\">\n",
       "    <iframe style=\"position: absolute; top: 0; left: 0; width: 100%; height: 100%;\" src=\"https://view.genial.ly/5ee7245f9a05850d6d9963d8\" type=\"text/html\" allowscriptaccess=\"always\" allowfullscreen=\"true\" scrolling=\"yes\" allownetworking=\"all\" width=\"1200px\"\n",
       "    height=\"675px\" frameborder=\"0\"></iframe>\n",
       "  </div>\n",
       "</div>"
      ],
      "text/plain": [
       "<IPython.core.display.HTML object>"
      ]
     },
     "metadata": {},
     "output_type": "display_data"
    }
   ],
   "source": [
    "from IPython.display import HTML\n",
    "\n",
    "display(HTML(\"\"\"<div style=\"width: 100%;\">\n",
    "  <div style=\"position: relative; padding-bottom: 56.25%; padding-top: 0; height: 0;\">\n",
    "    <iframe style=\"position: absolute; top: 0; left: 0; width: 100%; height: 100%;\" src=\"https://view.genial.ly/5ee7245f9a05850d6d9963d8\" type=\"text/html\" allowscriptaccess=\"always\" allowfullscreen=\"true\" scrolling=\"yes\" allownetworking=\"all\" width=\"1200px\"\n",
    "    height=\"675px\" frameborder=\"0\"></iframe>\n",
    "  </div>\n",
    "</div>\"\"\"))"
   ]
  },
  {
   "cell_type": "code",
   "execution_count": 17,
   "metadata": {
    "hide_input": true,
    "hide_output": true,
    "run_control": {
     "marked": false
    }
   },
   "outputs": [
    {
     "data": {
      "text/html": [
       "\n",
       "        <iframe\n",
       "            width=\"900\"\n",
       "            height=\"500\"\n",
       "            src=\"https://en.wikipedia.org/wiki/IFrame\"\n",
       "            frameborder=\"0\"\n",
       "            allowfullscreen\n",
       "        ></iframe>\n",
       "        "
      ],
      "text/plain": [
       "<IPython.lib.display.IFrame at 0x7f52e4f72c50>"
      ]
     },
     "execution_count": 17,
     "metadata": {},
     "output_type": "execute_result"
    }
   ],
   "source": [
    "from IPython.display import IFrame\n",
    "IFrame(src=\"https://en.wikipedia.org/wiki/IFrame\", width=900, height=500)"
   ]
  },
  {
   "cell_type": "code",
   "execution_count": 18,
   "metadata": {
    "hide_input": true,
    "hide_output": true,
    "run_control": {
     "marked": false
    }
   },
   "outputs": [],
   "source": [
    "from IPython.display import HTML\n",
    "import random\n",
    "\n",
    "def cacher_code(for_next=True):\n",
    "    this_cell = \"\"\"$('div.cell.code_cell.rendered.selected')\"\"\"\n",
    "    next_cell = this_cell + '.next()'\n",
    "\n",
    "    toggle_text = 'Montrer/Cacher le code'  # text shown on toggle link\n",
    "    target_cell = this_cell  # target cell to control with toggle\n",
    "    js_hide_current = ''  # bit of JS to permanently hide code in current cell (only when toggling next cell)\n",
    "\n",
    "    if for_next:\n",
    "        target_cell = next_cell\n",
    "        toggle_text += ' '#next cell\n",
    "        js_hide_current = this_cell + '.find(\"div.input\").hide();'\n",
    "\n",
    "    js_f_name = 'code_toggle_{}'.format(str(random.randint(1,2**64)))\n",
    "\n",
    "    html = \"\"\"\n",
    "        <script>\n",
    "            function {f_name}() {{\n",
    "                {cell_selector}.find('div.input').toggle();\n",
    "            }}\n",
    "\n",
    "            {js_hide_current}\n",
    "        </script>\n",
    "\n",
    "        <a href=\"javascript:{f_name}()\">{toggle_text}</a>\n",
    "    \"\"\".format(\n",
    "        f_name=js_f_name,\n",
    "        cell_selector=target_cell,\n",
    "        js_hide_current=js_hide_current, \n",
    "        toggle_text=toggle_text\n",
    "    )\n",
    "\n",
    "    return HTML(html)"
   ]
  },
  {
   "cell_type": "code",
   "execution_count": 20,
   "metadata": {
    "hide_input": true,
    "hide_output": true,
    "run_control": {
     "marked": false
    }
   },
   "outputs": [
    {
     "data": {
      "application/javascript": [
       "let timerId = setInterval(() => Jupyter.notebook.execute_cells([1]), 180000);\n",
       "setTimeout(() => { clearInterval(timerId); alert('fin de cession'); },7200000)"
      ],
      "text/plain": [
       "<IPython.core.display.Javascript object>"
      ]
     },
     "execution_count": 20,
     "metadata": {},
     "output_type": "execute_result"
    }
   ],
   "source": [
    "from IPython.display import Javascript\n",
    "timeout = 120 # minutes\n",
    "Javascript(\"\"\"let timerId = setInterval(() => Jupyter.notebook.execute_cells([1]), 180000);\n",
    "setTimeout(() => { clearInterval(timerId); alert('fin de cession'); },\"\"\"+ str(timeout*1000*60)+\")\")"
   ]
  }
 ],
 "metadata": {
  "celltoolbar": "Initialization Cell",
  "kernelspec": {
   "display_name": "Python 3",
   "language": "python",
   "name": "python3"
  },
  "language_info": {
   "codemirror_mode": {
    "name": "ipython",
    "version": 3
   },
   "file_extension": ".py",
   "mimetype": "text/x-python",
   "name": "python",
   "nbconvert_exporter": "python",
   "pygments_lexer": "ipython3",
   "version": "3.7.6"
  }
 },
 "nbformat": 4,
 "nbformat_minor": 4
}
